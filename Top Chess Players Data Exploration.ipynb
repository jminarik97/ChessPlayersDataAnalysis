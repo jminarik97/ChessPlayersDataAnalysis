{
 "cells": [
  {
   "cell_type": "code",
   "execution_count": 299,
   "metadata": {},
   "outputs": [],
   "source": [
    "import pandas as pd\n",
    "import numpy as np"
   ]
  },
  {
   "cell_type": "code",
   "execution_count": 300,
   "metadata": {
    "scrolled": true
   },
   "outputs": [],
   "source": [
    "df = pd.read_csv('top_chess_players_aug_2020.csv')"
   ]
  },
  {
   "cell_type": "markdown",
   "metadata": {},
   "source": [
    "Total number of players in the dataset"
   ]
  },
  {
   "cell_type": "code",
   "execution_count": 301,
   "metadata": {},
   "outputs": [
    {
     "data": {
      "text/plain": [
       "977687"
      ]
     },
     "execution_count": 301,
     "metadata": {},
     "output_type": "execute_result"
    }
   ],
   "source": [
    "# Total rows in dataset\n",
    "len(df)"
   ]
  },
  {
   "cell_type": "markdown",
   "metadata": {},
   "source": [
    "## Grandmasters"
   ]
  },
  {
   "cell_type": "markdown",
   "metadata": {},
   "source": [
    "Top 10 highest rated Grandmasters"
   ]
  },
  {
   "cell_type": "code",
   "execution_count": 302,
   "metadata": {
    "scrolled": false
   },
   "outputs": [
    {
     "data": {
      "text/html": [
       "<div>\n",
       "<style scoped>\n",
       "    .dataframe tbody tr th:only-of-type {\n",
       "        vertical-align: middle;\n",
       "    }\n",
       "\n",
       "    .dataframe tbody tr th {\n",
       "        vertical-align: top;\n",
       "    }\n",
       "\n",
       "    .dataframe thead th {\n",
       "        text-align: right;\n",
       "    }\n",
       "</style>\n",
       "<table border=\"1\" class=\"dataframe\">\n",
       "  <thead>\n",
       "    <tr style=\"text-align: right;\">\n",
       "      <th></th>\n",
       "      <th>Fide id</th>\n",
       "      <th>Name</th>\n",
       "      <th>Federation</th>\n",
       "      <th>Gender</th>\n",
       "      <th>Year_of_birth</th>\n",
       "      <th>Title</th>\n",
       "      <th>Standard_Rating</th>\n",
       "      <th>Rapid_rating</th>\n",
       "      <th>Blitz_rating</th>\n",
       "      <th>Inactive_flag</th>\n",
       "    </tr>\n",
       "  </thead>\n",
       "  <tbody>\n",
       "    <tr>\n",
       "      <th>0</th>\n",
       "      <td>1503014</td>\n",
       "      <td>Carlsen, Magnus</td>\n",
       "      <td>NOR</td>\n",
       "      <td>M</td>\n",
       "      <td>1990.0</td>\n",
       "      <td>GM</td>\n",
       "      <td>2863.0</td>\n",
       "      <td>2881.0</td>\n",
       "      <td>2886.0</td>\n",
       "      <td>NaN</td>\n",
       "    </tr>\n",
       "    <tr>\n",
       "      <th>1</th>\n",
       "      <td>2020009</td>\n",
       "      <td>Caruana, Fabiano</td>\n",
       "      <td>USA</td>\n",
       "      <td>M</td>\n",
       "      <td>1992.0</td>\n",
       "      <td>GM</td>\n",
       "      <td>2835.0</td>\n",
       "      <td>2773.0</td>\n",
       "      <td>2711.0</td>\n",
       "      <td>NaN</td>\n",
       "    </tr>\n",
       "    <tr>\n",
       "      <th>2</th>\n",
       "      <td>4100018</td>\n",
       "      <td>Kasparov, Garry</td>\n",
       "      <td>RUS</td>\n",
       "      <td>M</td>\n",
       "      <td>1963.0</td>\n",
       "      <td>GM</td>\n",
       "      <td>2812.0</td>\n",
       "      <td>2783.0</td>\n",
       "      <td>2801.0</td>\n",
       "      <td>i</td>\n",
       "    </tr>\n",
       "    <tr>\n",
       "      <th>3</th>\n",
       "      <td>8603677</td>\n",
       "      <td>Ding, Liren</td>\n",
       "      <td>CHN</td>\n",
       "      <td>M</td>\n",
       "      <td>1992.0</td>\n",
       "      <td>GM</td>\n",
       "      <td>2791.0</td>\n",
       "      <td>2836.0</td>\n",
       "      <td>2788.0</td>\n",
       "      <td>NaN</td>\n",
       "    </tr>\n",
       "    <tr>\n",
       "      <th>4</th>\n",
       "      <td>4168119</td>\n",
       "      <td>Nepomniachtchi, Ian</td>\n",
       "      <td>RUS</td>\n",
       "      <td>M</td>\n",
       "      <td>1990.0</td>\n",
       "      <td>GM</td>\n",
       "      <td>2784.0</td>\n",
       "      <td>2778.0</td>\n",
       "      <td>2785.0</td>\n",
       "      <td>NaN</td>\n",
       "    </tr>\n",
       "    <tr>\n",
       "      <th>5</th>\n",
       "      <td>623539</td>\n",
       "      <td>Vachier-Lagrave, Maxime</td>\n",
       "      <td>FRA</td>\n",
       "      <td>M</td>\n",
       "      <td>1990.0</td>\n",
       "      <td>GM</td>\n",
       "      <td>2778.0</td>\n",
       "      <td>2860.0</td>\n",
       "      <td>2822.0</td>\n",
       "      <td>NaN</td>\n",
       "    </tr>\n",
       "    <tr>\n",
       "      <th>6</th>\n",
       "      <td>4126025</td>\n",
       "      <td>Grischuk, Alexander</td>\n",
       "      <td>RUS</td>\n",
       "      <td>M</td>\n",
       "      <td>1983.0</td>\n",
       "      <td>GM</td>\n",
       "      <td>2777.0</td>\n",
       "      <td>2784.0</td>\n",
       "      <td>2765.0</td>\n",
       "      <td>NaN</td>\n",
       "    </tr>\n",
       "    <tr>\n",
       "      <th>7</th>\n",
       "      <td>13300474</td>\n",
       "      <td>Aronian, Levon</td>\n",
       "      <td>ARM</td>\n",
       "      <td>M</td>\n",
       "      <td>1982.0</td>\n",
       "      <td>GM</td>\n",
       "      <td>2773.0</td>\n",
       "      <td>2778.0</td>\n",
       "      <td>2739.0</td>\n",
       "      <td>NaN</td>\n",
       "    </tr>\n",
       "    <tr>\n",
       "      <th>8</th>\n",
       "      <td>5202213</td>\n",
       "      <td>So, Wesley</td>\n",
       "      <td>USA</td>\n",
       "      <td>M</td>\n",
       "      <td>1993.0</td>\n",
       "      <td>GM</td>\n",
       "      <td>2770.0</td>\n",
       "      <td>2741.0</td>\n",
       "      <td>2816.0</td>\n",
       "      <td>NaN</td>\n",
       "    </tr>\n",
       "    <tr>\n",
       "      <th>9</th>\n",
       "      <td>13400924</td>\n",
       "      <td>Radjabov, Teimour</td>\n",
       "      <td>AZE</td>\n",
       "      <td>M</td>\n",
       "      <td>1987.0</td>\n",
       "      <td>GM</td>\n",
       "      <td>2765.0</td>\n",
       "      <td>2758.0</td>\n",
       "      <td>2757.0</td>\n",
       "      <td>NaN</td>\n",
       "    </tr>\n",
       "  </tbody>\n",
       "</table>\n",
       "</div>"
      ],
      "text/plain": [
       "    Fide id                     Name Federation Gender  Year_of_birth Title  \\\n",
       "0   1503014          Carlsen, Magnus        NOR      M         1990.0    GM   \n",
       "1   2020009         Caruana, Fabiano        USA      M         1992.0    GM   \n",
       "2   4100018          Kasparov, Garry        RUS      M         1963.0    GM   \n",
       "3   8603677              Ding, Liren        CHN      M         1992.0    GM   \n",
       "4   4168119      Nepomniachtchi, Ian        RUS      M         1990.0    GM   \n",
       "5    623539  Vachier-Lagrave, Maxime        FRA      M         1990.0    GM   \n",
       "6   4126025      Grischuk, Alexander        RUS      M         1983.0    GM   \n",
       "7  13300474           Aronian, Levon        ARM      M         1982.0    GM   \n",
       "8   5202213               So, Wesley        USA      M         1993.0    GM   \n",
       "9  13400924        Radjabov, Teimour        AZE      M         1987.0    GM   \n",
       "\n",
       "   Standard_Rating  Rapid_rating  Blitz_rating Inactive_flag  \n",
       "0           2863.0        2881.0        2886.0           NaN  \n",
       "1           2835.0        2773.0        2711.0           NaN  \n",
       "2           2812.0        2783.0        2801.0             i  \n",
       "3           2791.0        2836.0        2788.0           NaN  \n",
       "4           2784.0        2778.0        2785.0           NaN  \n",
       "5           2778.0        2860.0        2822.0           NaN  \n",
       "6           2777.0        2784.0        2765.0           NaN  \n",
       "7           2773.0        2778.0        2739.0           NaN  \n",
       "8           2770.0        2741.0        2816.0           NaN  \n",
       "9           2765.0        2758.0        2757.0           NaN  "
      ]
     },
     "execution_count": 302,
     "metadata": {},
     "output_type": "execute_result"
    }
   ],
   "source": [
    "# Create Dataframe of all Grandmasters\n",
    "gm_df = df.loc[df['Title']=='GM']\n",
    "gm_df.head(10)"
   ]
  },
  {
   "cell_type": "markdown",
   "metadata": {},
   "source": [
    "Total number of players with the Grandmaster title"
   ]
  },
  {
   "cell_type": "code",
   "execution_count": 303,
   "metadata": {},
   "outputs": [
    {
     "data": {
      "text/plain": [
       "1721"
      ]
     },
     "execution_count": 303,
     "metadata": {},
     "output_type": "execute_result"
    }
   ],
   "source": [
    "len(gm_df)"
   ]
  },
  {
   "cell_type": "markdown",
   "metadata": {},
   "source": [
    "Number of Grandmasters who are currently active"
   ]
  },
  {
   "cell_type": "code",
   "execution_count": 304,
   "metadata": {},
   "outputs": [
    {
     "data": {
      "text/plain": [
       "1301"
      ]
     },
     "execution_count": 304,
     "metadata": {},
     "output_type": "execute_result"
    }
   ],
   "source": [
    "len(gm_df) - len(gm_df.loc[gm_df['Inactive_flag']=='i'])"
   ]
  },
  {
   "cell_type": "markdown",
   "metadata": {},
   "source": [
    "Average standard rating of Grandmasters"
   ]
  },
  {
   "cell_type": "code",
   "execution_count": 305,
   "metadata": {},
   "outputs": [
    {
     "data": {
      "text/plain": [
       "2505"
      ]
     },
     "execution_count": 305,
     "metadata": {},
     "output_type": "execute_result"
    }
   ],
   "source": [
    "round(gm_df['Standard_Rating'].mean())"
   ]
  },
  {
   "cell_type": "markdown",
   "metadata": {},
   "source": [
    "### Women who are Grandmasters"
   ]
  },
  {
   "cell_type": "markdown",
   "metadata": {},
   "source": [
    "Top 10 female players"
   ]
  },
  {
   "cell_type": "code",
   "execution_count": 306,
   "metadata": {
    "scrolled": false
   },
   "outputs": [
    {
     "data": {
      "text/html": [
       "<div>\n",
       "<style scoped>\n",
       "    .dataframe tbody tr th:only-of-type {\n",
       "        vertical-align: middle;\n",
       "    }\n",
       "\n",
       "    .dataframe tbody tr th {\n",
       "        vertical-align: top;\n",
       "    }\n",
       "\n",
       "    .dataframe thead th {\n",
       "        text-align: right;\n",
       "    }\n",
       "</style>\n",
       "<table border=\"1\" class=\"dataframe\">\n",
       "  <thead>\n",
       "    <tr style=\"text-align: right;\">\n",
       "      <th></th>\n",
       "      <th>Fide id</th>\n",
       "      <th>Name</th>\n",
       "      <th>Federation</th>\n",
       "      <th>Gender</th>\n",
       "      <th>Year_of_birth</th>\n",
       "      <th>Title</th>\n",
       "      <th>Standard_Rating</th>\n",
       "      <th>Rapid_rating</th>\n",
       "      <th>Blitz_rating</th>\n",
       "      <th>Inactive_flag</th>\n",
       "    </tr>\n",
       "  </thead>\n",
       "  <tbody>\n",
       "    <tr>\n",
       "      <th>64</th>\n",
       "      <td>700070</td>\n",
       "      <td>Polgar, Judit</td>\n",
       "      <td>HUN</td>\n",
       "      <td>F</td>\n",
       "      <td>1976.0</td>\n",
       "      <td>GM</td>\n",
       "      <td>2675.0</td>\n",
       "      <td>2646.0</td>\n",
       "      <td>2736.0</td>\n",
       "      <td>wi</td>\n",
       "    </tr>\n",
       "    <tr>\n",
       "      <th>90</th>\n",
       "      <td>8602980</td>\n",
       "      <td>Hou, Yifan</td>\n",
       "      <td>CHN</td>\n",
       "      <td>F</td>\n",
       "      <td>1994.0</td>\n",
       "      <td>GM</td>\n",
       "      <td>2658.0</td>\n",
       "      <td>2621.0</td>\n",
       "      <td>2601.0</td>\n",
       "      <td>NaN</td>\n",
       "    </tr>\n",
       "    <tr>\n",
       "      <th>329</th>\n",
       "      <td>5008123</td>\n",
       "      <td>Koneru, Humpy</td>\n",
       "      <td>IND</td>\n",
       "      <td>F</td>\n",
       "      <td>1987.0</td>\n",
       "      <td>GM</td>\n",
       "      <td>2586.0</td>\n",
       "      <td>2483.0</td>\n",
       "      <td>2483.0</td>\n",
       "      <td>NaN</td>\n",
       "    </tr>\n",
       "    <tr>\n",
       "      <th>346</th>\n",
       "      <td>4147103</td>\n",
       "      <td>Goryachkina, Aleksandra</td>\n",
       "      <td>RUS</td>\n",
       "      <td>F</td>\n",
       "      <td>1998.0</td>\n",
       "      <td>GM</td>\n",
       "      <td>2582.0</td>\n",
       "      <td>2502.0</td>\n",
       "      <td>2441.0</td>\n",
       "      <td>NaN</td>\n",
       "    </tr>\n",
       "    <tr>\n",
       "      <th>365</th>\n",
       "      <td>700088</td>\n",
       "      <td>Polgar, Susan</td>\n",
       "      <td>HUN</td>\n",
       "      <td>F</td>\n",
       "      <td>1969.0</td>\n",
       "      <td>GM</td>\n",
       "      <td>2577.0</td>\n",
       "      <td>NaN</td>\n",
       "      <td>NaN</td>\n",
       "      <td>wi</td>\n",
       "    </tr>\n",
       "    <tr>\n",
       "      <th>376</th>\n",
       "      <td>8600147</td>\n",
       "      <td>Xie, Jun</td>\n",
       "      <td>CHN</td>\n",
       "      <td>F</td>\n",
       "      <td>1970.0</td>\n",
       "      <td>GM</td>\n",
       "      <td>2574.0</td>\n",
       "      <td>NaN</td>\n",
       "      <td>NaN</td>\n",
       "      <td>wi</td>\n",
       "    </tr>\n",
       "    <tr>\n",
       "      <th>459</th>\n",
       "      <td>8603006</td>\n",
       "      <td>Ju, Wenjun</td>\n",
       "      <td>CHN</td>\n",
       "      <td>F</td>\n",
       "      <td>1991.0</td>\n",
       "      <td>GM</td>\n",
       "      <td>2560.0</td>\n",
       "      <td>2610.0</td>\n",
       "      <td>2536.0</td>\n",
       "      <td>NaN</td>\n",
       "    </tr>\n",
       "    <tr>\n",
       "      <th>538</th>\n",
       "      <td>14109336</td>\n",
       "      <td>Lagno, Kateryna</td>\n",
       "      <td>RUS</td>\n",
       "      <td>F</td>\n",
       "      <td>1989.0</td>\n",
       "      <td>GM</td>\n",
       "      <td>2546.0</td>\n",
       "      <td>2521.0</td>\n",
       "      <td>2608.0</td>\n",
       "      <td>NaN</td>\n",
       "    </tr>\n",
       "    <tr>\n",
       "      <th>551</th>\n",
       "      <td>14114550</td>\n",
       "      <td>Muzychuk, Mariya</td>\n",
       "      <td>UKR</td>\n",
       "      <td>F</td>\n",
       "      <td>1992.0</td>\n",
       "      <td>GM</td>\n",
       "      <td>2544.0</td>\n",
       "      <td>2506.0</td>\n",
       "      <td>2326.0</td>\n",
       "      <td>NaN</td>\n",
       "    </tr>\n",
       "    <tr>\n",
       "      <th>600</th>\n",
       "      <td>12801259</td>\n",
       "      <td>Cmilyte, Viktorija</td>\n",
       "      <td>LTU</td>\n",
       "      <td>F</td>\n",
       "      <td>1983.0</td>\n",
       "      <td>GM</td>\n",
       "      <td>2538.0</td>\n",
       "      <td>2394.0</td>\n",
       "      <td>2435.0</td>\n",
       "      <td>wi</td>\n",
       "    </tr>\n",
       "  </tbody>\n",
       "</table>\n",
       "</div>"
      ],
      "text/plain": [
       "      Fide id                     Name Federation Gender  Year_of_birth Title  \\\n",
       "64     700070            Polgar, Judit        HUN      F         1976.0    GM   \n",
       "90    8602980               Hou, Yifan        CHN      F         1994.0    GM   \n",
       "329   5008123            Koneru, Humpy        IND      F         1987.0    GM   \n",
       "346   4147103  Goryachkina, Aleksandra        RUS      F         1998.0    GM   \n",
       "365    700088            Polgar, Susan        HUN      F         1969.0    GM   \n",
       "376   8600147                 Xie, Jun        CHN      F         1970.0    GM   \n",
       "459   8603006               Ju, Wenjun        CHN      F         1991.0    GM   \n",
       "538  14109336          Lagno, Kateryna        RUS      F         1989.0    GM   \n",
       "551  14114550         Muzychuk, Mariya        UKR      F         1992.0    GM   \n",
       "600  12801259       Cmilyte, Viktorija        LTU      F         1983.0    GM   \n",
       "\n",
       "     Standard_Rating  Rapid_rating  Blitz_rating Inactive_flag  \n",
       "64            2675.0        2646.0        2736.0            wi  \n",
       "90            2658.0        2621.0        2601.0           NaN  \n",
       "329           2586.0        2483.0        2483.0           NaN  \n",
       "346           2582.0        2502.0        2441.0           NaN  \n",
       "365           2577.0           NaN           NaN            wi  \n",
       "376           2574.0           NaN           NaN            wi  \n",
       "459           2560.0        2610.0        2536.0           NaN  \n",
       "538           2546.0        2521.0        2608.0           NaN  \n",
       "551           2544.0        2506.0        2326.0           NaN  \n",
       "600           2538.0        2394.0        2435.0            wi  "
      ]
     },
     "execution_count": 306,
     "metadata": {},
     "output_type": "execute_result"
    }
   ],
   "source": [
    "gm_df.loc[gm_df['Gender']=='F'].head(10)"
   ]
  },
  {
   "cell_type": "markdown",
   "metadata": {},
   "source": [
    "Number of women who are Grandmasters"
   ]
  },
  {
   "cell_type": "code",
   "execution_count": 307,
   "metadata": {},
   "outputs": [
    {
     "data": {
      "text/plain": [
       "37"
      ]
     },
     "execution_count": 307,
     "metadata": {},
     "output_type": "execute_result"
    }
   ],
   "source": [
    "len(gm_df.loc[gm_df['Gender']=='F'])"
   ]
  },
  {
   "cell_type": "markdown",
   "metadata": {},
   "source": [
    "Number of women who are Grandmasters and currently active"
   ]
  },
  {
   "cell_type": "code",
   "execution_count": 308,
   "metadata": {
    "scrolled": true
   },
   "outputs": [
    {
     "data": {
      "text/plain": [
       "28"
      ]
     },
     "execution_count": 308,
     "metadata": {},
     "output_type": "execute_result"
    }
   ],
   "source": [
    "# Number of Grandmasters who are women and who are currently active\n",
    "len(gm_df.loc[(gm_df['Gender']=='F') & (gm_df['Inactive_flag']!='wi')])"
   ]
  },
  {
   "cell_type": "markdown",
   "metadata": {},
   "source": [
    "Average standard rating of women with the Grandmaster title"
   ]
  },
  {
   "cell_type": "code",
   "execution_count": 309,
   "metadata": {},
   "outputs": [
    {
     "data": {
      "text/plain": [
       "2483"
      ]
     },
     "execution_count": 309,
     "metadata": {},
     "output_type": "execute_result"
    }
   ],
   "source": [
    "round(gm_df.loc[gm_df['Gender']=='F']['Standard_Rating'].mean())"
   ]
  },
  {
   "cell_type": "markdown",
   "metadata": {},
   "source": [
    "Average age of women with the Grandmaster title"
   ]
  },
  {
   "cell_type": "code",
   "execution_count": 310,
   "metadata": {},
   "outputs": [
    {
     "data": {
      "text/plain": [
       "40"
      ]
     },
     "execution_count": 310,
     "metadata": {},
     "output_type": "execute_result"
    }
   ],
   "source": [
    "2021 - round(gm_df.loc[gm_df['Gender']=='F']['Year_of_birth'].mean())"
   ]
  },
  {
   "cell_type": "markdown",
   "metadata": {},
   "source": [
    "Countries with the most female Grandmasters"
   ]
  },
  {
   "cell_type": "code",
   "execution_count": 311,
   "metadata": {},
   "outputs": [
    {
     "data": {
      "text/html": [
       "<div>\n",
       "<style scoped>\n",
       "    .dataframe tbody tr th:only-of-type {\n",
       "        vertical-align: middle;\n",
       "    }\n",
       "\n",
       "    .dataframe tbody tr th {\n",
       "        vertical-align: top;\n",
       "    }\n",
       "\n",
       "    .dataframe thead th {\n",
       "        text-align: right;\n",
       "    }\n",
       "</style>\n",
       "<table border=\"1\" class=\"dataframe\">\n",
       "  <thead>\n",
       "    <tr style=\"text-align: right;\">\n",
       "      <th></th>\n",
       "      <th>Count</th>\n",
       "    </tr>\n",
       "    <tr>\n",
       "      <th>Federation</th>\n",
       "      <th></th>\n",
       "    </tr>\n",
       "  </thead>\n",
       "  <tbody>\n",
       "    <tr>\n",
       "      <th>CHN</th>\n",
       "      <td>7</td>\n",
       "    </tr>\n",
       "    <tr>\n",
       "      <th>RUS</th>\n",
       "      <td>6</td>\n",
       "    </tr>\n",
       "    <tr>\n",
       "      <th>GEO</th>\n",
       "      <td>5</td>\n",
       "    </tr>\n",
       "    <tr>\n",
       "      <th>UKR</th>\n",
       "      <td>4</td>\n",
       "    </tr>\n",
       "    <tr>\n",
       "      <th>HUN</th>\n",
       "      <td>3</td>\n",
       "    </tr>\n",
       "    <tr>\n",
       "      <th>IND</th>\n",
       "      <td>2</td>\n",
       "    </tr>\n",
       "    <tr>\n",
       "      <th>USA</th>\n",
       "      <td>1</td>\n",
       "    </tr>\n",
       "    <tr>\n",
       "      <th>SWE</th>\n",
       "      <td>1</td>\n",
       "    </tr>\n",
       "    <tr>\n",
       "      <th>SCO</th>\n",
       "      <td>1</td>\n",
       "    </tr>\n",
       "    <tr>\n",
       "      <th>QAT</th>\n",
       "      <td>1</td>\n",
       "    </tr>\n",
       "  </tbody>\n",
       "</table>\n",
       "</div>"
      ],
      "text/plain": [
       "            Count\n",
       "Federation       \n",
       "CHN             7\n",
       "RUS             6\n",
       "GEO             5\n",
       "UKR             4\n",
       "HUN             3\n",
       "IND             2\n",
       "USA             1\n",
       "SWE             1\n",
       "SCO             1\n",
       "QAT             1"
      ]
     },
     "execution_count": 311,
     "metadata": {},
     "output_type": "execute_result"
    }
   ],
   "source": [
    "women_gm = pd.DataFrame(gm_df.loc[gm_df['Gender']=='F']\n",
    "             .groupby('Federation')['Fide id'].count()\n",
    "             .sort_values(ascending=False))\n",
    "\n",
    "women_gm.columns = ['Count']\n",
    "women_gm.head(10)"
   ]
  },
  {
   "cell_type": "markdown",
   "metadata": {},
   "source": [
    "## Countries"
   ]
  },
  {
   "cell_type": "code",
   "execution_count": 312,
   "metadata": {},
   "outputs": [],
   "source": [
    "# Count of Grandmasters per country\n",
    "countries_df = pd.DataFrame(gm_df.groupby('Federation')['Fide id'].count())\n",
    "countries_df.reset_index(inplace = True)\n",
    "countries_df.columns = ['Federation', 'GM Total']\n",
    "countries_df.sort_values('GM Total', ascending = False, inplace = True)\n",
    "\n",
    "countries_df.reset_index(drop = True, inplace=True)"
   ]
  },
  {
   "cell_type": "code",
   "execution_count": 313,
   "metadata": {},
   "outputs": [],
   "source": [
    "# Average standard rating per country\n",
    "avg_standard_rating = gm_df.groupby('Federation')['Standard_Rating'].mean().apply(round)\n",
    "\n",
    "countries_df = countries_df.join(avg_standard_rating, on = 'Federation')\n",
    "countries_df.columns = ['Federation', 'GM Total', 'Avg Standard Rating']"
   ]
  },
  {
   "cell_type": "code",
   "execution_count": 314,
   "metadata": {},
   "outputs": [],
   "source": [
    "# Average Grandmaster age per country\n",
    "avg_gm_age_per_fed = gm_df.groupby('Federation')['Year_of_birth'].mean()\n",
    "avg_gm_age_per_fed = avg_gm_age_per_fed.apply(round)\n",
    "current_year = 2021\n",
    "avg_gm_age_per_fed = current_year - avg_gm_age_per_fed\n",
    "countries_df = countries_df.join(avg_gm_age_per_fed, on = 'Federation')\n",
    "countries_df.columns = ['Federation', 'GM Total', 'Avg Standard Rating', 'Average Age']"
   ]
  },
  {
   "cell_type": "markdown",
   "metadata": {},
   "source": [
    "This table shows the which countries have the most Grandmasters, as well as the average standard rating and average age."
   ]
  },
  {
   "cell_type": "code",
   "execution_count": 315,
   "metadata": {},
   "outputs": [
    {
     "data": {
      "text/html": [
       "<div>\n",
       "<style scoped>\n",
       "    .dataframe tbody tr th:only-of-type {\n",
       "        vertical-align: middle;\n",
       "    }\n",
       "\n",
       "    .dataframe tbody tr th {\n",
       "        vertical-align: top;\n",
       "    }\n",
       "\n",
       "    .dataframe thead th {\n",
       "        text-align: right;\n",
       "    }\n",
       "</style>\n",
       "<table border=\"1\" class=\"dataframe\">\n",
       "  <thead>\n",
       "    <tr style=\"text-align: right;\">\n",
       "      <th></th>\n",
       "      <th>Federation</th>\n",
       "      <th>GM Total</th>\n",
       "      <th>Avg Standard Rating</th>\n",
       "      <th>Average Age</th>\n",
       "    </tr>\n",
       "  </thead>\n",
       "  <tbody>\n",
       "    <tr>\n",
       "      <th>0</th>\n",
       "      <td>RUS</td>\n",
       "      <td>237</td>\n",
       "      <td>2523</td>\n",
       "      <td>44</td>\n",
       "    </tr>\n",
       "    <tr>\n",
       "      <th>1</th>\n",
       "      <td>GER</td>\n",
       "      <td>96</td>\n",
       "      <td>2494</td>\n",
       "      <td>50</td>\n",
       "    </tr>\n",
       "    <tr>\n",
       "      <th>2</th>\n",
       "      <td>USA</td>\n",
       "      <td>95</td>\n",
       "      <td>2525</td>\n",
       "      <td>46</td>\n",
       "    </tr>\n",
       "    <tr>\n",
       "      <th>3</th>\n",
       "      <td>UKR</td>\n",
       "      <td>88</td>\n",
       "      <td>2530</td>\n",
       "      <td>41</td>\n",
       "    </tr>\n",
       "    <tr>\n",
       "      <th>4</th>\n",
       "      <td>IND</td>\n",
       "      <td>66</td>\n",
       "      <td>2525</td>\n",
       "      <td>31</td>\n",
       "    </tr>\n",
       "    <tr>\n",
       "      <th>5</th>\n",
       "      <td>ESP</td>\n",
       "      <td>55</td>\n",
       "      <td>2488</td>\n",
       "      <td>46</td>\n",
       "    </tr>\n",
       "    <tr>\n",
       "      <th>6</th>\n",
       "      <td>HUN</td>\n",
       "      <td>52</td>\n",
       "      <td>2520</td>\n",
       "      <td>44</td>\n",
       "    </tr>\n",
       "    <tr>\n",
       "      <th>7</th>\n",
       "      <td>FRA</td>\n",
       "      <td>51</td>\n",
       "      <td>2510</td>\n",
       "      <td>46</td>\n",
       "    </tr>\n",
       "    <tr>\n",
       "      <th>8</th>\n",
       "      <td>SRB</td>\n",
       "      <td>50</td>\n",
       "      <td>2451</td>\n",
       "      <td>52</td>\n",
       "    </tr>\n",
       "    <tr>\n",
       "      <th>9</th>\n",
       "      <td>CHN</td>\n",
       "      <td>48</td>\n",
       "      <td>2564</td>\n",
       "      <td>35</td>\n",
       "    </tr>\n",
       "    <tr>\n",
       "      <th>10</th>\n",
       "      <td>POL</td>\n",
       "      <td>47</td>\n",
       "      <td>2519</td>\n",
       "      <td>39</td>\n",
       "    </tr>\n",
       "    <tr>\n",
       "      <th>11</th>\n",
       "      <td>ISR</td>\n",
       "      <td>44</td>\n",
       "      <td>2492</td>\n",
       "      <td>47</td>\n",
       "    </tr>\n",
       "    <tr>\n",
       "      <th>12</th>\n",
       "      <td>ARM</td>\n",
       "      <td>40</td>\n",
       "      <td>2531</td>\n",
       "      <td>38</td>\n",
       "    </tr>\n",
       "    <tr>\n",
       "      <th>13</th>\n",
       "      <td>NED</td>\n",
       "      <td>38</td>\n",
       "      <td>2530</td>\n",
       "      <td>42</td>\n",
       "    </tr>\n",
       "    <tr>\n",
       "      <th>14</th>\n",
       "      <td>ENG</td>\n",
       "      <td>36</td>\n",
       "      <td>2508</td>\n",
       "      <td>53</td>\n",
       "    </tr>\n",
       "    <tr>\n",
       "      <th>15</th>\n",
       "      <td>CZE</td>\n",
       "      <td>34</td>\n",
       "      <td>2484</td>\n",
       "      <td>47</td>\n",
       "    </tr>\n",
       "    <tr>\n",
       "      <th>16</th>\n",
       "      <td>BUL</td>\n",
       "      <td>32</td>\n",
       "      <td>2431</td>\n",
       "      <td>53</td>\n",
       "    </tr>\n",
       "    <tr>\n",
       "      <th>17</th>\n",
       "      <td>GEO</td>\n",
       "      <td>31</td>\n",
       "      <td>2501</td>\n",
       "      <td>43</td>\n",
       "    </tr>\n",
       "    <tr>\n",
       "      <th>18</th>\n",
       "      <td>CRO</td>\n",
       "      <td>30</td>\n",
       "      <td>2481</td>\n",
       "      <td>54</td>\n",
       "    </tr>\n",
       "    <tr>\n",
       "      <th>19</th>\n",
       "      <td>CUB</td>\n",
       "      <td>27</td>\n",
       "      <td>2479</td>\n",
       "      <td>40</td>\n",
       "    </tr>\n",
       "  </tbody>\n",
       "</table>\n",
       "</div>"
      ],
      "text/plain": [
       "   Federation  GM Total  Avg Standard Rating  Average Age\n",
       "0         RUS       237                 2523           44\n",
       "1         GER        96                 2494           50\n",
       "2         USA        95                 2525           46\n",
       "3         UKR        88                 2530           41\n",
       "4         IND        66                 2525           31\n",
       "5         ESP        55                 2488           46\n",
       "6         HUN        52                 2520           44\n",
       "7         FRA        51                 2510           46\n",
       "8         SRB        50                 2451           52\n",
       "9         CHN        48                 2564           35\n",
       "10        POL        47                 2519           39\n",
       "11        ISR        44                 2492           47\n",
       "12        ARM        40                 2531           38\n",
       "13        NED        38                 2530           42\n",
       "14        ENG        36                 2508           53\n",
       "15        CZE        34                 2484           47\n",
       "16        BUL        32                 2431           53\n",
       "17        GEO        31                 2501           43\n",
       "18        CRO        30                 2481           54\n",
       "19        CUB        27                 2479           40"
      ]
     },
     "execution_count": 315,
     "metadata": {},
     "output_type": "execute_result"
    }
   ],
   "source": [
    "countries_df.head(20)"
   ]
  }
 ],
 "metadata": {
  "kernelspec": {
   "display_name": "Python 3",
   "language": "python",
   "name": "python3"
  },
  "language_info": {
   "codemirror_mode": {
    "name": "ipython",
    "version": 3
   },
   "file_extension": ".py",
   "mimetype": "text/x-python",
   "name": "python",
   "nbconvert_exporter": "python",
   "pygments_lexer": "ipython3",
   "version": "3.8.5"
  }
 },
 "nbformat": 4,
 "nbformat_minor": 4
}
